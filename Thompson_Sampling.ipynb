{
  "nbformat": 4,
  "nbformat_minor": 0,
  "metadata": {
    "colab": {
      "name": "Thompson_Sampling.ipynb",
      "provenance": []
    },
    "kernelspec": {
      "name": "python3",
      "display_name": "Python 3"
    }
  },
  "cells": [
    {
      "cell_type": "code",
      "metadata": {
        "id": "knrk9bzMNpxw",
        "colab_type": "code",
        "colab": {}
      },
      "source": [
        "import pandas as pd\n",
        "import numpy as np\n",
        "import matplotlib.pyplot as plt"
      ],
      "execution_count": 1,
      "outputs": []
    },
    {
      "cell_type": "code",
      "metadata": {
        "id": "176-w_rNNyez",
        "colab_type": "code",
        "colab": {}
      },
      "source": [
        "dataset=pd.read_csv('Ads_CTR_Optimisation.csv')"
      ],
      "execution_count": 2,
      "outputs": []
    },
    {
      "cell_type": "code",
      "metadata": {
        "id": "H2G1DSniNyn8",
        "colab_type": "code",
        "colab": {}
      },
      "source": [
        "import random\n",
        "N=10000\n",
        "d=10\n",
        "ad_selected=[]\n",
        "number_of_rewards_0=[0]*d\n",
        "number_of_rewards_1=[0]*d\n",
        "total_reward=0\n",
        "for n in range(0,N):\n",
        "  ad=0\n",
        "  max_random=0\n",
        "  for i in range(0,d):\n",
        "    random_beta=random.betavariate(number_of_rewards_0[i]+1,number_of_rewards_1[i]+1)\n",
        "    if random_beta>max_random:\n",
        "       max_random=random_beta\n",
        "       ad=i\n",
        "  ad_selected.append(ad)\n",
        "  reward=dataset.values[n,ad]\n",
        "  if reward==1:\n",
        "    number_of_rewards_1[ad]=number_of_rewards_1[ad]+1\n",
        "  else:\n",
        "    number_of_rewards_0[ad]=number_of_rewards_0[ad]+1\n",
        "  total_reward=total_reward+reward"
      ],
      "execution_count": 3,
      "outputs": []
    },
    {
      "cell_type": "code",
      "metadata": {
        "id": "PQuAMOErNyv1",
        "colab_type": "code",
        "colab": {
          "base_uri": "https://localhost:8080/",
          "height": 295
        },
        "outputId": "fc933a70-fad2-462e-eec7-98d0eaed3d0c"
      },
      "source": [
        "plt.hist(ad_selected)\n",
        "plt.title('Histogram for ad selection')\n",
        "plt.xlabel('Ads')\n",
        "plt.ylabel('Number of times each ads was selected')\n",
        "plt.show()"
      ],
      "execution_count": 4,
      "outputs": [
        {
          "output_type": "display_data",
          "data": {
            "image/png": "[encoded data removed]",
            "text/plain": [
              "<Figure size 432x288 with 1 Axes>"
            ]
          },
          "metadata": {
            "tags": [],
            "needs_background": "light"
          }
        }
      ]
    },
    {
      "cell_type": "code",
      "metadata": {
        "id": "Byydjx7TNy3v",
        "colab_type": "code",
        "colab": {}
      },
      "source": [
        ""
      ],
      "execution_count": 4,
      "outputs": []
    }
  ]
}